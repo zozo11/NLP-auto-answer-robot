{
 "cells": [
  {
   "cell_type": "markdown",
   "metadata": {},
   "source": [
    "<h1>  <center>Question Answering Analysis</center> </h1>\n",
    "<center>Base on Amazon question/answer data</center> \n",
    "\n",
    "\n",
    "Team Members:<br>\n",
    "18042783  Zoe Wang<br>\n",
    "17238744  Rebecca Liu<br>\n",
    "18043158  Yonggang Li<br>\n",
    "\n",
    "\n"
   ]
  },
  {
   "cell_type": "markdown",
   "metadata": {},
   "source": [
    "# 1 Introduction\n",
    "Question Answering is very important for companies to relieve the work load of customer support staff and respond quickly at the same time. Meanwhile, it can also improve the customers experiences as their issues can be solved quickly and accurately.<br>\n",
    "\n",
    "Our project is to buile a model to answer the customers' questions automatically. Our dataset is Amazon quesiton answer data.(Modeling ambiguity, subjectivity, and diverging viewpoints in opinion question answering systems.http://jmcauley.ucsd.edu/data/amazon/qa/) <br>\n",
    "\n",
    "Our project is implemtented as the following steps:\n",
    "* Data EDA and Cleaning\n",
    "* Naïve approach based on similiarties\n",
    "* DNN model\n",
    "  * Vectorize words\n",
    "  * Q-A Senquence\n",
    "  * LSTM & Seq2seq learing\n",
    "  * Implementation with Tensorflow\n",
    "  * Model traning\n",
    "  * Prediction (not finished yet)\n",
    "\n"
   ]
  },
  {
   "cell_type": "code",
   "execution_count": 3,
   "metadata": {},
   "outputs": [
    {
     "data": {
      "text/html": [
       "<style>.container { width:90% !important; }</style>"
      ],
      "text/plain": [
       "<IPython.core.display.HTML object>"
      ]
     },
     "metadata": {},
     "output_type": "display_data"
    }
   ],
   "source": [
    "from IPython.core.display import display, HTML\n",
    "display(HTML(\"<style>.container { width:90% !important; }</style>\"))"
   ]
  },
  {
   "cell_type": "code",
   "execution_count": 4,
   "metadata": {},
   "outputs": [],
   "source": [
    "import pandas as pd\n",
    "import seaborn as sns\n",
    "import matplotlib.pyplot as plt\n",
    "import matplotlib as mpl\n",
    "import numpy as np\n",
    "\n",
    "import warnings\n",
    "warnings.simplefilter(action='ignore')"
   ]
  },
  {
   "cell_type": "code",
   "execution_count": 5,
   "metadata": {},
   "outputs": [],
   "source": [
    "sns.set(style=\"ticks\")\n",
    "sns.set_style(\"whitegrid\")\n",
    "\n",
    "from pylab import rcParams\n",
    "rcParams['figure.dpi'] = 100\n",
    "rcParams['lines.linewidth'] = 2\n",
    "rcParams['axes.facecolor'] = 'white'\n",
    "rcParams['patch.edgecolor'] = 'white'\n",
    "rcParams['font.family'] = 'StixGeneral'\n",
    "rcParams['figure.figsize'] = 15,10\n",
    "rcParams['font.size'] = 16\n",
    "rcParams['axes.labelsize'] = 'medium'\n",
    "rcParams['xtick.labelsize'] = 16\n",
    "rcParams['ytick.labelsize'] = 16\n",
    "%matplotlib inline"
   ]
  },
  {
   "cell_type": "code",
   "execution_count": 6,
   "metadata": {},
   "outputs": [],
   "source": [
    "import sys\n",
    "import json\n",
    "import nltk\n",
    "from nltk import clean_html\n",
    "import random\n",
    "from nltk.stem.lancaster import LancasterStemmer\n",
    "stemmer = LancasterStemmer()\n",
    "from gensim.models import Word2Vec\n",
    "from gensim import corpora, models, similarities\n",
    "\n",
    "from textblob import TextBlob, Word\n",
    "#!pip install gensim\n",
    "from sklearn.manifold import TSNE\n",
    "from nltk.corpus import stopwords\n",
    "\n",
    "#load wordcloud and matplotlib\n",
    "import matplotlib.pyplot as plt\n",
    "from scipy.misc import imread\n",
    "from wordcloud import WordCloud\n",
    "from wordcloud import WordCloud,ImageColorGenerator\n",
    "\n",
    "#import multidict as multidict\n",
    "from PIL import Image"
   ]
  },
  {
   "cell_type": "code",
   "execution_count": 7,
   "metadata": {},
   "outputs": [],
   "source": [
    "stop_words = nltk.corpus.stopwords.words('english') + [\n",
    "    '.',    \n",
    "    ',',\n",
    "    '#',\n",
    "    '@',\n",
    "    '$',\n",
    "    '%',\n",
    "    '&',\n",
    "    '--',\n",
    "    '\\'s',\n",
    "    '?',\n",
    "    ')',\n",
    "    '(',\n",
    "    '\\'',\n",
    "    '\\'\\'',\n",
    "    '\\'re',\n",
    "    '\"',\n",
    "    '-',\n",
    "    '}',\n",
    "    '{',\n",
    "    '!',\n",
    "    u'—',\n",
    "    ''\n",
    "]"
   ]
  },
  {
   "cell_type": "markdown",
   "metadata": {},
   "source": [
    "# 2 Data Aquisition and EDA"
   ]
  },
  {
   "cell_type": "markdown",
   "metadata": {},
   "source": [
    "##### Load the Q-A data from JSON file to DataFrame\n",
    "For each question, there is a measurement \"helpful\", higher value means it is more helpful. So we only keep the most helpful answers though this may lose some valuable expertise."
   ]
  },
  {
   "cell_type": "code",
   "execution_count": 8,
   "metadata": {},
   "outputs": [],
   "source": [
    "# import our intents file\n",
    "import json\n",
    "def getdata(path):\n",
    "    g = open(path,'r')\n",
    "    for l in g:\n",
    "        yield eval(l)\n",
    "intents = list(getdata('/data/QA/QA_Video_Games.json'))\n",
    "#intents = list(getdata('../Question_Answering/datasets//QA_Video_Games.json'))"
   ]
  },
  {
   "cell_type": "code",
   "execution_count": 9,
   "metadata": {},
   "outputs": [
    {
     "data": {
      "text/html": [
       "<div>\n",
       "<style scoped>\n",
       "    .dataframe tbody tr th:only-of-type {\n",
       "        vertical-align: middle;\n",
       "    }\n",
       "\n",
       "    .dataframe tbody tr th {\n",
       "        vertical-align: top;\n",
       "    }\n",
       "\n",
       "    .dataframe thead th {\n",
       "        text-align: right;\n",
       "    }\n",
       "</style>\n",
       "<table border=\"1\" class=\"dataframe\">\n",
       "  <thead>\n",
       "    <tr style=\"text-align: right;\">\n",
       "      <th></th>\n",
       "      <th>asin</th>\n",
       "      <th>q_type</th>\n",
       "      <th>q_text</th>\n",
       "      <th>a_text</th>\n",
       "      <th>a_help</th>\n",
       "    </tr>\n",
       "  </thead>\n",
       "  <tbody>\n",
       "    <tr>\n",
       "      <th>0</th>\n",
       "      <td>B0000512IE</td>\n",
       "      <td>open-ended</td>\n",
       "      <td>Can I use these with Window 8/8.1?</td>\n",
       "      <td>Yes, you will need to go to their website to d...</td>\n",
       "      <td>4</td>\n",
       "    </tr>\n",
       "    <tr>\n",
       "      <th>1</th>\n",
       "      <td>B0000512IE</td>\n",
       "      <td>open-ended</td>\n",
       "      <td>Could this be adapted to be used in racing gam...</td>\n",
       "      <td>I googled the question and found many forums o...</td>\n",
       "      <td>0</td>\n",
       "    </tr>\n",
       "    <tr>\n",
       "      <th>2</th>\n",
       "      <td>B0000512IE</td>\n",
       "      <td>open-ended</td>\n",
       "      <td>How far are the pedals apart? i.e. the spacing...</td>\n",
       "      <td>4 inches. They are also at an awkward angle wh...</td>\n",
       "      <td>4</td>\n",
       "    </tr>\n",
       "    <tr>\n",
       "      <th>3</th>\n",
       "      <td>B0000512IE</td>\n",
       "      <td>open-ended</td>\n",
       "      <td>Is there any adjustment in sensitivity of the ...</td>\n",
       "      <td>I don't think so.  My son and husband use this...</td>\n",
       "      <td>2</td>\n",
       "    </tr>\n",
       "    <tr>\n",
       "      <th>4</th>\n",
       "      <td>B0000512IE</td>\n",
       "      <td>yes/no</td>\n",
       "      <td>does anyone use them for Star Citizen, and if ...</td>\n",
       "      <td>Yep. They're a bit small and certainly take so...</td>\n",
       "      <td>2</td>\n",
       "    </tr>\n",
       "  </tbody>\n",
       "</table>\n",
       "</div>"
      ],
      "text/plain": [
       "         asin      q_type                                             q_text  \\\n",
       "0  B0000512IE  open-ended                 Can I use these with Window 8/8.1?   \n",
       "1  B0000512IE  open-ended  Could this be adapted to be used in racing gam...   \n",
       "2  B0000512IE  open-ended  How far are the pedals apart? i.e. the spacing...   \n",
       "3  B0000512IE  open-ended  Is there any adjustment in sensitivity of the ...   \n",
       "4  B0000512IE      yes/no  does anyone use them for Star Citizen, and if ...   \n",
       "\n",
       "                                              a_text a_help  \n",
       "0  Yes, you will need to go to their website to d...      4  \n",
       "1  I googled the question and found many forums o...      0  \n",
       "2  4 inches. They are also at an awkward angle wh...      4  \n",
       "3  I don't think so.  My son and husband use this...      2  \n",
       "4  Yep. They're a bit small and certainly take so...      2  "
      ]
     },
     "execution_count": 9,
     "metadata": {},
     "output_type": "execute_result"
    }
   ],
   "source": [
    "qa_df = pd.DataFrame(columns=['asin', 'q_type', 'q_text', 'a_text', 'a_help'])\n",
    "# loop through each question in our intents\n",
    "index = 0\n",
    "for intent in intents:\n",
    "    asin = intent['asin']\n",
    "    qObj = {}   \n",
    "    for question in intent['questions']:\n",
    "        aObj = {}\n",
    "        aObj['helpful'] = -1\n",
    "        for answer in question['answers']:\n",
    "            #print (answer['helpful'])\n",
    "            t = answer['helpful']\n",
    "            if (t[0]+t[1] > aObj['helpful']):\n",
    "                aObj['helpful'] = t[0]+t[1]\n",
    "                txt = answer['answerText']\n",
    "                aObj['a_text'] = answer['answerText']\n",
    "        qa_df.loc[index] = [asin, question['questionType'], question['questionText'], aObj['a_text'], aObj['helpful']]\n",
    "        index = index+1\n",
    "qa_df.head()    "
   ]
  },
  {
   "cell_type": "markdown",
   "metadata": {},
   "source": [
    "### Get cloud word plot"
   ]
  },
  {
   "cell_type": "markdown",
   "metadata": {},
   "source": [
    "Use wordclud to delete stop words and perform word frequency statistics on the file and generate a hash table to determine the importance of words.According to the number of word frequency to generate the image layout in proportion."
   ]
  },
  {
   "cell_type": "code",
   "execution_count": 9,
   "metadata": {},
   "outputs": [],
   "source": [
    "excel_file = qa_df['a_text']\n",
    "excel_file.to_csv('/data/QA/QA_as.txt', sep='\\t', index=False)"
   ]
  },
  {
   "cell_type": "code",
   "execution_count": 10,
   "metadata": {},
   "outputs": [
    {
     "data": {
      "image/png": "[encoded data removed]",
      "text/plain": [
       "<Figure size 432x288 with 1 Axes>"
      ]
     },
     "metadata": {},
     "output_type": "display_data"
    },
    {
     "data": {
      "text/plain": [
       "<wordcloud.wordcloud.WordCloud at 0x163ebf4a278>"
      ]
     },
     "execution_count": 10,
     "metadata": {},
     "output_type": "execute_result"
    }
   ],
   "source": [
    "#coding=utf-8\n",
    "#read a txt file\n",
    "text = open('/data/QA/QA_as.txt', \"r\", encoding='utf-8').read()\n",
    "\n",
    "#load background picture\n",
    "bg_pic = imread('/data/QA/QA2.png')\n",
    "\n",
    "#create word cloud\n",
    "wordcloud = WordCloud(mask=bg_pic, background_color='white', scale=1.5).generate(text)\n",
    "image_colors = ImageColorGenerator(bg_pic)\n",
    "\n",
    "#show picture\n",
    "plt.imshow(wordcloud)\n",
    "plt.axis('off') \n",
    "plt.show()\n",
    "\n",
    "#save image\n",
    "wordcloud.to_file('/data/QA/QA_result.jpg')"
   ]
  },
  {
   "cell_type": "markdown",
   "metadata": {},
   "source": [
    "#### Let check the questions by type"
   ]
  },
  {
   "cell_type": "code",
   "execution_count": 10,
   "metadata": {
    "scrolled": true
   },
   "outputs": [
    {
     "data": {
      "text/plain": [
       "Text(0.5,0,'Question Types')"
      ]
     },
     "execution_count": 10,
     "metadata": {},
     "output_type": "execute_result"
    },
    {
     "data": {
      "image/png": "[encoded data removed]",
      "text/plain": [
       "<Figure size 720x360 with 1 Axes>"
      ]
     },
     "metadata": {},
     "output_type": "display_data"
    }
   ],
   "source": [
    "type_df = qa_df.groupby('q_type')\n",
    "type_labels = type_df.size().index\n",
    "type_counts = type_df.size().values\n",
    "sns.set(rc={'figure.figsize':(10, 5)})\n",
    "sns.barplot(x=type_labels, y=type_counts)\n",
    "plt.ylabel('Question Counts', fontsize=16)\n",
    "plt.xlabel('Question Types', fontsize=16)"
   ]
  },
  {
   "cell_type": "markdown",
   "metadata": {},
   "source": [
    "#### Change question type to 1| 0 and compare two type different quantity "
   ]
  },
  {
   "cell_type": "markdown",
   "metadata": {},
   "source": [
    "##### How many questions raised for each products?"
   ]
  },
  {
   "cell_type": "code",
   "execution_count": 14,
   "metadata": {},
   "outputs": [
    {
     "data": {
      "text/plain": [
       "array([ 4, 10,  5,  3,  9,  7,  8,  6,  1,  2], dtype=int64)"
      ]
     },
     "execution_count": 14,
     "metadata": {},
     "output_type": "execute_result"
    }
   ],
   "source": [
    "grouped_by_asin = qa_df.groupby('asin')\n",
    "grouped_by_asin = pd.DataFrame({'asin': grouped_by_asin.size().index, 'count': grouped_by_asin.size().values})\n",
    "grouped_by_asin.sort_values(by='count', ascending=False)\n",
    "grouped_by_asin['count'].unique()\n"
   ]
  },
  {
   "cell_type": "markdown",
   "metadata": {},
   "source": [
    "##### There are at most 10 questions and at least 1 questions for all the products, let's check the products numbers for each number of question"
   ]
  },
  {
   "cell_type": "code",
   "execution_count": 15,
   "metadata": {
    "scrolled": true
   },
   "outputs": [
    {
     "data": {
      "image/png": "[encoded data removed]",
      "text/plain": [
       "<Figure size 720x288 with 1 Axes>"
      ]
     },
     "metadata": {},
     "output_type": "display_data"
    }
   ],
   "source": [
    "df_asin_count = grouped_by_asin.groupby('count')\n",
    "df_asin_count = pd.DataFrame({'Questions': df_asin_count.size().index, 'Products': df_asin_count.size().values})\n",
    "df_asin_count.sort_values(by='Questions')\n",
    "df_asin_count.head()\n",
    "\n",
    "ax = df_asin_count.plot(kind='bar', x='Questions', y='Products', rot=0, edgecolor='k', legend=False, figsize=(10,4))\n",
    "plt.xlabel('Count of Questions'); \n",
    "plt.ylabel('Count of Products');\n",
    "plt.title('Distribution of Products (%d) Numbers with Question Numbers '%(len(grouped_by_asin)))\n",
    "for p in ax.patches:\n",
    "    b = p.get_bbox()\n",
    "    val = \"{:.2f}\".format(b.y1 + b.y0)        \n",
    "    ax.annotate(val, ((b.x0 + b.x1)/2-0.2, b.y1+2))"
   ]
  },
  {
   "cell_type": "markdown",
   "metadata": {},
   "source": [
    "##### Show the questions and answers length distribution"
   ]
  },
  {
   "cell_type": "code",
   "execution_count": 14,
   "metadata": {},
   "outputs": [
    {
     "name": "stdout",
     "output_type": "stream",
     "text": [
      "The shortest and longest questions are 2 and 2478\n",
      "The shortest and longest answers are 1 and 7026\n"
     ]
    },
    {
     "data": {
      "image/png": "[encoded data removed]",
      "text/plain": [
       "<Figure size 1296x432 with 2 Axes>"
      ]
     },
     "metadata": {},
     "output_type": "display_data"
    }
   ],
   "source": [
    "qa_df['q_len'] = qa_df[['q_text']].applymap(len)\n",
    "qa_df['a_len'] = qa_df[['a_text']].applymap(len)\n",
    "print('The shortest and longest questions are {} and {}'.format(qa_df['q_len'].min(), qa_df['q_len'].max()))\n",
    "print('The shortest and longest answers are {} and {}'.format(qa_df['a_len'].min(), qa_df['a_len'].max()))\n",
    "\n",
    "sns.set(rc={'figure.figsize':(18, 6)})\n",
    "\n",
    "q_ax = plt.subplot(1, 2, 1)\n",
    "sns.distplot(qa_df['q_len'], color = 'r',ax=q_ax)\n",
    "a_ax = plt.subplot(1, 2, 2)\n",
    "sns.distplot(qa_df['a_len'], color = 'b', ax=a_ax);\n",
    "\n",
    "plt.show()"
   ]
  },
  {
   "cell_type": "markdown",
   "metadata": {},
   "source": [
    "From the above chat, we can see that most of the question are shorter than 200 characters and most of the answer are also shorter than 500 character. Let's check how many of them are longer."
   ]
  },
  {
   "cell_type": "code",
   "execution_count": 15,
   "metadata": {},
   "outputs": [
    {
     "name": "stdout",
     "output_type": "stream",
     "text": [
      "90/7744 questions are longer than 200 characters\n",
      "289/7744 answers are longer than 500 characters\n",
      "116 longest answers, more than 200 characters\n"
     ]
    }
   ],
   "source": [
    "long_q = qa_df[qa_df.q_len > 250]\n",
    "long_a = qa_df[qa_df.a_len > 500]\n",
    "longest_a = long_a[qa_df.a_len > 2000]\n",
    "print(\"{}/{} questions are longer than 200 characters\".format(len(long_q), len(qa_df)))\n",
    "print(\"{}/{} answers are longer than 500 characters\".format(len(long_a), len(qa_df)))\n",
    "print(\"{} longest answers, more than 200 characters\".format(len(longest_a)))"
   ]
  },
  {
   "cell_type": "markdown",
   "metadata": {},
   "source": [
    "For those longer question and answers, we may check their helpful degree. For the most helpful Q-As, it may worth dedicate \n",
    "FAQ web pages or just include them in the product user guide or manual. we can also see there are 184 answers longer than 1500 characters."
   ]
  },
  {
   "cell_type": "code",
   "execution_count": 18,
   "metadata": {},
   "outputs": [
    {
     "data": {
      "image/png": "[encoded data removed]",
      "text/plain": [
       "<Figure size 720x360 with 1 Axes>"
      ]
     },
     "metadata": {},
     "output_type": "display_data"
    }
   ],
   "source": [
    "longest_help = long_a.groupby('a_help')\n",
    "sns.set(rc={'figure.figsize':(10, 5)})\n",
    "ax = sns.barplot(x=longest_help.size().index, y=longest_help.size().values)\n",
    "plt.xlabel('Answer Helpfulness', fontsize=16)\n",
    "plt.ylabel('Answer Number', fontsize=16)\n",
    "plt.title('The Helpfullongest (> 1500) Answers ({})'.format(len(long_a)))\n",
    "for p in ax.patches:\n",
    "    b = p.get_bbox()\n",
    "    val = \"{}\".format(int(b.y1 + b.y0))       \n",
    "    ax.annotate(val, ((b.x0 + b.x1)/2-0.2, b.y1+2))"
   ]
  },
  {
   "cell_type": "markdown",
   "metadata": {},
   "source": [
    "Since most of them are very helpful, we can give each of them a concise summary for user's quick reference."
   ]
  },
  {
   "cell_type": "markdown",
   "metadata": {},
   "source": [
    "The following code are copied from Massey University Course 158755 tutorial."
   ]
  },
  {
   "cell_type": "code",
   "execution_count": 16,
   "metadata": {
    "collapsed": true
   },
   "outputs": [],
   "source": [
    "#source https://github.com/ptwobrussell/Mining-the-Social-Web/blob/master/python_code/blogs_and_nlp__summarize.py\n",
    "N = 50  # Number of words to consider\n",
    "CLUSTER_THRESHOLD = 5  # Distance between words to consider\n",
    "TOP_SENTENCES = 1  # Number of sentences to return for a \"top n\" summary\n",
    "\n",
    "def _score_sentences(sentences, important_words):\n",
    "    scores = []\n",
    "    sentence_idx = -1\n",
    "\n",
    "    for s in [nltk.tokenize.word_tokenize(s) for s in sentences]:\n",
    "\n",
    "        sentence_idx += 1\n",
    "        word_idx = []\n",
    "\n",
    "        # For each word in the word list...\n",
    "        for w in important_words:\n",
    "            try:\n",
    "                # Compute an index for where any important words occur in the sentence\n",
    "                word_idx.append(s.index(w))\n",
    "            except ValueError: # w not in this particular sentence\n",
    "                pass\n",
    "\n",
    "        word_idx.sort()\n",
    "\n",
    "        # It is possible that some sentences may not contain any important words at all\n",
    "        if len(word_idx)== 0: continue\n",
    "\n",
    "        # Using the word index, compute clusters by using a max distance threshold\n",
    "        # for any two consecutive words\n",
    "\n",
    "        clusters = []\n",
    "        cluster = [word_idx[0]]\n",
    "        i = 1\n",
    "        while i < len(word_idx):\n",
    "            if word_idx[i] - word_idx[i - 1] < CLUSTER_THRESHOLD:\n",
    "                cluster.append(word_idx[i])\n",
    "            else:\n",
    "                clusters.append(cluster[:])\n",
    "                cluster = [word_idx[i]]\n",
    "            i += 1\n",
    "        clusters.append(cluster)\n",
    "\n",
    "        # Score each cluster. The max score for any given cluster is the score \n",
    "        # for the sentence\n",
    "\n",
    "        max_cluster_score = 0\n",
    "        for c in clusters:\n",
    "            significant_words_in_cluster = len(c)\n",
    "            total_words_in_cluster = c[-1] - c[0] + 1\n",
    "            score = 1.0 * significant_words_in_cluster \\\n",
    "                * significant_words_in_cluster / total_words_in_cluster\n",
    "\n",
    "            if score > max_cluster_score:\n",
    "                max_cluster_score = score\n",
    "\n",
    "        scores.append((sentence_idx, score))\n",
    "\n",
    "    return scores\n",
    "\n",
    "def summarize(txt):\n",
    "    sentences = [s for s in nltk.tokenize.sent_tokenize(txt)]\n",
    "    normalized_sentences = [s.lower() for s in sentences]\n",
    "\n",
    "    words = [w.lower() for sentence in normalized_sentences for w in\n",
    "             nltk.tokenize.word_tokenize(sentence)]\n",
    "\n",
    "    fdist = nltk.FreqDist(words)\n",
    "\n",
    "    top_n_words = [w[0] for w in fdist.items() \n",
    "            if w[0] not in nltk.corpus.stopwords.words('english')][:N]\n",
    "\n",
    "    scored_sentences = _score_sentences(normalized_sentences, top_n_words)\n",
    "\n",
    "    # Summaization Approach 1:\n",
    "    # Filter out non-significant sentences by using the average score plus a\n",
    "    # fraction of the std dev as a filter\n",
    "\n",
    "    avg = np.mean([s[1] for s in scored_sentences])\n",
    "    std = np.std([s[1] for s in scored_sentences])\n",
    "    mean_scored = [(sent_idx, score) for (sent_idx, score) in scored_sentences\n",
    "                   if score > avg + 0.5 * std]\n",
    "\n",
    "    # Summarization Approach 2:\n",
    "    # Another approach would be to return only the top N ranked sentences\n",
    "\n",
    "    top_n_scored = sorted(scored_sentences, key=lambda s: s[1])[-TOP_SENTENCES:]\n",
    "    top_n_scored = sorted(top_n_scored, key=lambda s: s[0])\n",
    "\n",
    "    # Decorate the post object with summaries\n",
    "\n",
    "    return dict(top_n_summary=[sentences[idx] for (idx, score) in top_n_scored],\n",
    "                mean_scored_summary=[sentences[idx] for (idx, score) in mean_scored])"
   ]
  },
  {
   "cell_type": "markdown",
   "metadata": {},
   "source": [
    "Let's check an example to see if the summary makes sense."
   ]
  },
  {
   "cell_type": "code",
   "execution_count": 17,
   "metadata": {},
   "outputs": [
    {
     "name": "stdout",
     "output_type": "stream",
     "text": [
      "The original long answer:\n",
      "\n",
      "The Saitek X52 is an awesome value with good performance.  There are some longivity issues but it's still a good setup that offers the most features for the money, great for a first timer.CH Products aren't as flashy and modern looking but tend to last a long time and have excellent sensitivity and accuracy.  The CH software is also very lightweight on resources and offers good programing and the ability to combine multiple devices into one virtual joystick for compatibility with more programs.  CH also has a helpful fan base and third party forums, search for CH Hangar in Google.\n",
      "\n",
      "\n",
      "Summary:\n",
      "\n",
      "[u'CH also has a helpful fan base and third party forums, search for CH Hangar in Google.']\n"
     ]
    }
   ],
   "source": [
    "a_text = long_a['a_text'].values\n",
    "test_text = a_text[1]\n",
    "print(\"The original long answer:\\n\")\n",
    "print(test_text)\n",
    "print(\"\\n\")\n",
    "print(\"Summary:\\n\")\n",
    "summary = summarize(a_text[1])['top_n_summary']\n",
    "print(summary)"
   ]
  },
  {
   "cell_type": "markdown",
   "metadata": {},
   "source": [
    "# 3 Naive way to answer questions\n",
    "Intuitively, if a user asks a question that has been answered, we can simply return the answer. Generally, if the user asks a question that has a high similarity with the existing question, we can return the answer back.\n",
    "\n",
    "##### Tokenize words and get similarity"
   ]
  },
  {
   "cell_type": "code",
   "execution_count": 11,
   "metadata": {
    "collapsed": true
   },
   "outputs": [],
   "source": [
    "def sentence_words_mapper(s):\n",
    "    tmpWords = nltk.word_tokenize(s)\n",
    "    words = [w.lower() for w in tmpWords if w.lower() not in stop_words]\n",
    "    return words\n",
    "    \n",
    "# quesiton is like ['B0000512IE', 'May I use this in racing games also?']\n",
    "def find_answer(q):\n",
    "    k_df = qa_df[qa_df.asin == q[0]]\n",
    "    k_df['q_text'] = k_df[['q_text']].applymap(sentence_words_mapper)\n",
    "    \n",
    "    q_base = k_df.q_text.values.tolist()\n",
    "    dictionary = corpora.Dictionary(q_base)\n",
    "    corpus = [dictionary.doc2bow(text) for text in q_base]\n",
    "    lsi_model = models.LsiModel(corpus, id2word=dictionary)\n",
    "    q_words = sentence_words_mapper(q[1])\n",
    "    vec_bow = dictionary.doc2bow(q_words)\n",
    "    vec_lsi = lsi_model[vec_bow] \n",
    "    index = similarities.MatrixSimilarity(lsi_model[corpus]) \n",
    "    sims = index[vec_lsi]\n",
    "    print (sims)\n",
    "    a_index = -1\n",
    "    max_prob = 0\n",
    "    for i in range(len(sims)):\n",
    "        if (sims[i] > max_prob):\n",
    "            max_prob = sims[i]\n",
    "            a_index = i\n",
    "\n",
    "    return (k_df.loc[a_index].a_text)"
   ]
  },
  {
   "cell_type": "code",
   "execution_count": 20,
   "metadata": {},
   "outputs": [
    {
     "name": "stdout",
     "output_type": "stream",
     "text": [
      "[ 4.0254584e-01  8.5392874e-01 -1.7462298e-09  0.0000000e+00\n",
      "  2.6352811e-01  5.6461431e-09  3.4861490e-01  3.4861493e-01\n",
      " -3.0559022e-09]\n",
      "I googled the question and found many forums of users using both the CH yoke and pedals for racing games. So yes they can be use for racing. - Dave\n"
     ]
    }
   ],
   "source": [
    "print (find_answer(['B0000512IE', 'May I use this in racing games also?']))"
   ]
  },
  {
   "cell_type": "markdown",
   "metadata": {},
   "source": [
    "### Sentiment Analysis with TextBlob"
   ]
  },
  {
   "cell_type": "markdown",
   "metadata": {},
   "source": [
    "The TextBlob is used for simple subjective and objective analysis of sentences and answers. According to the following figure, the subjectivity score of the question is mainly in the position of 0.4, which makes the question more pertinent.The answer is affected by emotion."
   ]
  },
  {
   "cell_type": "code",
   "execution_count": 14,
   "metadata": {
    "collapsed": true
   },
   "outputs": [],
   "source": [
    "from textblob.sentiments import NaiveBayesAnalyzer, PatternAnalyzer\n",
    "from textblob import Blobber\n",
    "from textblob.classifiers import NaiveBayesClassifier\n",
    "tba = Blobber(analyzer=NaiveBayesAnalyzer())"
   ]
  },
  {
   "cell_type": "code",
   "execution_count": 15,
   "metadata": {
    "collapsed": true
   },
   "outputs": [],
   "source": [
    "#Sentiment plot\n",
    "def checkSemtiment(text):\n",
    "    pos = []\n",
    "    for i in text: \n",
    "        tmd = TextBlob(i).sentiment.subjectivity\n",
    "        if tmd > 0:\n",
    "            pos.append(tmd)\n",
    "    return pos\n",
    "\n",
    "#get result\n",
    "result_sem = checkSemtiment(qa_df['a_text'])\n",
    "a_subjective = pd.DataFrame(result_sem, columns=['answer_subjective']) \n",
    "\n",
    "#get question result\n",
    "result_sem = checkSemtiment(qa_df['q_text'])\n",
    "q_subjective = pd.DataFrame(result_sem, columns=['question_subjective']) "
   ]
  },
  {
   "cell_type": "code",
   "execution_count": 16,
   "metadata": {},
   "outputs": [
    {
     "data": {
      "text/plain": [
       "Text(0.5,1,'Sentiment plot for question on subjective analysis')"
      ]
     },
     "execution_count": 16,
     "metadata": {},
     "output_type": "execute_result"
    },
    {
     "data": {
      "image/png": "[encoded data removed]",
      "text/plain": [
       "<matplotlib.figure.Figure at 0x26d1a61c5c0>"
      ]
     },
     "metadata": {},
     "output_type": "display_data"
    }
   ],
   "source": [
    "#plot subjective\n",
    "sns.set(rc={'figure.figsize':(18, 6)})\n",
    "\n",
    "a_ax = plt.subplot(1, 2, 1)\n",
    "sns.kdeplot(a_subjective['answer_subjective'],color='blue', label='Answer Subjective', ax=a_ax)\n",
    "a_ax.set_title('Sentiment plot for answer on subjective analysis')\n",
    "\n",
    "q_ax = plt.subplot(1, 2, 2)\n",
    "sns.kdeplot(q_subjective['question_subjective'],color='red', label='Question Subjective', ax=q_ax)\n",
    "q_ax.set_title('Sentiment plot for question on subjective analysis')"
   ]
  },
  {
   "cell_type": "markdown",
   "metadata": {},
   "source": [
    "# 4 Neural Network Idea"
   ]
  },
  {
   "cell_type": "markdown",
   "metadata": {},
   "source": [
    "## 4.1 Word2Vec"
   ]
  },
  {
   "cell_type": "markdown",
   "metadata": {},
   "source": [
    "Word2vec is a simple two-layer neural networks which can trained to reconstruct linguistic contexts of words. Also we use Word2vec takes a large corpus of text and produces as its input and make a vector space, typically of several hundred dimensions, with each unique word in the corpus being assigned a corresponding vector in the space."
   ]
  },
  {
   "cell_type": "code",
   "execution_count": 21,
   "metadata": {},
   "outputs": [
    {
     "data": {
      "text/html": [
       "<div>\n",
       "<style>\n",
       "    .dataframe thead tr:only-child th {\n",
       "        text-align: right;\n",
       "    }\n",
       "\n",
       "    .dataframe thead th {\n",
       "        text-align: left;\n",
       "    }\n",
       "\n",
       "    .dataframe tbody tr th {\n",
       "        vertical-align: top;\n",
       "    }\n",
       "</style>\n",
       "<table border=\"1\" class=\"dataframe\">\n",
       "  <thead>\n",
       "    <tr style=\"text-align: right;\">\n",
       "      <th></th>\n",
       "      <th>asin</th>\n",
       "      <th>q_type</th>\n",
       "      <th>q_text</th>\n",
       "      <th>a_text</th>\n",
       "    </tr>\n",
       "  </thead>\n",
       "  <tbody>\n",
       "    <tr>\n",
       "      <th>0</th>\n",
       "      <td>B0000512IE</td>\n",
       "      <td>0</td>\n",
       "      <td>Can I use these with Window 8/8.1?</td>\n",
       "      <td>Yes, you will need to go to their website to d...</td>\n",
       "    </tr>\n",
       "    <tr>\n",
       "      <th>1</th>\n",
       "      <td>B0000512IE</td>\n",
       "      <td>0</td>\n",
       "      <td>Could this be adapted to be used in racing gam...</td>\n",
       "      <td>I googled the question and found many forums o...</td>\n",
       "    </tr>\n",
       "    <tr>\n",
       "      <th>2</th>\n",
       "      <td>B0000512IE</td>\n",
       "      <td>0</td>\n",
       "      <td>How far are the pedals apart? i.e. the spacing...</td>\n",
       "      <td>4 inches. They are also at an awkward angle wh...</td>\n",
       "    </tr>\n",
       "    <tr>\n",
       "      <th>3</th>\n",
       "      <td>B0000512IE</td>\n",
       "      <td>0</td>\n",
       "      <td>Is there any adjustment in sensitivity of the ...</td>\n",
       "      <td>I don't think so.  My son and husband use this...</td>\n",
       "    </tr>\n",
       "    <tr>\n",
       "      <th>4</th>\n",
       "      <td>B0000512IE</td>\n",
       "      <td>1</td>\n",
       "      <td>does anyone use them for Star Citizen, and if ...</td>\n",
       "      <td>Yep. They're a bit small and certainly take so...</td>\n",
       "    </tr>\n",
       "  </tbody>\n",
       "</table>\n",
       "</div>"
      ],
      "text/plain": [
       "         asin  q_type                                             q_text  \\\n",
       "0  B0000512IE       0                 Can I use these with Window 8/8.1?   \n",
       "1  B0000512IE       0  Could this be adapted to be used in racing gam...   \n",
       "2  B0000512IE       0  How far are the pedals apart? i.e. the spacing...   \n",
       "3  B0000512IE       0  Is there any adjustment in sensitivity of the ...   \n",
       "4  B0000512IE       1  does anyone use them for Star Citizen, and if ...   \n",
       "\n",
       "                                              a_text  \n",
       "0  Yes, you will need to go to their website to d...  \n",
       "1  I googled the question and found many forums o...  \n",
       "2  4 inches. They are also at an awkward angle wh...  \n",
       "3  I don't think so.  My son and husband use this...  \n",
       "4  Yep. They're a bit small and certainly take so...  "
      ]
     },
     "execution_count": 21,
     "metadata": {},
     "output_type": "execute_result"
    }
   ],
   "source": [
    "q_a = qa_df[['asin','q_type','q_text','a_text']]\n",
    "mapping = {\"yes/no\": 1, \"open-ended\": 0}\n",
    "q_a['q_type'] = q_a['q_type'].replace(mapping).astype(np.int)\n",
    "q_a.head()"
   ]
  },
  {
   "cell_type": "code",
   "execution_count": 22,
   "metadata": {
    "collapsed": true
   },
   "outputs": [],
   "source": [
    "# delete number and symbol\n",
    "import string\n",
    "def CleanLines(text):\n",
    "    cleanLine = []\n",
    "    delEStr = string.punctuation +string.digits\n",
    "    table = str.maketrans('','',delEStr)\n",
    "    \n",
    "    for i in text:       \n",
    "        #lines = i.translate(identify,delEStr)\n",
    "        lines = i.translate(table)\n",
    "        cleanLine.append(lines) \n",
    "    return cleanLine\n",
    "    "
   ]
  },
  {
   "cell_type": "code",
   "execution_count": 23,
   "metadata": {
    "collapsed": true
   },
   "outputs": [],
   "source": [
    "t_answer = CleanLines(q_a['a_text'])"
   ]
  },
  {
   "cell_type": "code",
   "execution_count": 24,
   "metadata": {
    "collapsed": true
   },
   "outputs": [],
   "source": [
    "#add token in answer question\n",
    "def getToken(text):\n",
    "    token_as = []\n",
    "    for i in text:\n",
    "        tokens = tokenizer.tokenize(i)\n",
    "        token_as.append(tokens)\n",
    "    #return token_as\n",
    "    return token_as"
   ]
  },
  {
   "cell_type": "code",
   "execution_count": 25,
   "metadata": {
    "collapsed": true
   },
   "outputs": [],
   "source": [
    "from nltk.tokenize import RegexpTokenizer\n",
    "#w means tokens are made of only alphanumeric characters where + indicates that they comprise of one or more of such characters\n",
    "tokenizer = RegexpTokenizer('\\w+')\n",
    "t_answer = getToken(t_answer)"
   ]
  },
  {
   "cell_type": "code",
   "execution_count": 26,
   "metadata": {
    "collapsed": true
   },
   "outputs": [],
   "source": [
    "#delete stop words and make lowercase ?? not lower\n",
    "def cleanword(text):\n",
    "    stop_w = []\n",
    "    for e in text:\n",
    "        content = [w.lower() for w in e if w.lower() not in stop_words]\n",
    "        stop_w.append(content)\n",
    "    return stop_w\n",
    "t_answer = cleanword(t_answer)"
   ]
  },
  {
   "cell_type": "code",
   "execution_count": 28,
   "metadata": {
    "collapsed": true
   },
   "outputs": [],
   "source": [
    "model = Word2Vec(t_answer, sg=1, size=100,  window=5,  min_count=5,  negative=3, sample=0.001, hs=1, workers=5)\n",
    "#model.save('datasets/application_a.bin')\n",
    "model.save(\"datasets/GameWV.bin\")\n",
    "model.wv.save_word2vec_format('datasets/GameWV.txt', binary=False)\n",
    "model['game'] "
   ]
  },
  {
   "cell_type": "code",
   "execution_count": 31,
   "metadata": {},
   "outputs": [
    {
     "name": "stdout",
     "output_type": "stream",
     "text": [
      "Similarity between 'computer' and 'phone'\n"
     ]
    },
    {
     "data": {
      "text/plain": [
       "0.43567425"
      ]
     },
     "execution_count": 31,
     "metadata": {},
     "output_type": "execute_result"
    }
   ],
   "source": [
    "print(\"Similarity between 'computer' and 'phone'\")\n",
    "model.similarity('computer', 'phone')"
   ]
  },
  {
   "cell_type": "markdown",
   "metadata": {},
   "source": [
    "### Model Virtualization"
   ]
  },
  {
   "cell_type": "code",
   "execution_count": 32,
   "metadata": {
    "collapsed": true
   },
   "outputs": [],
   "source": [
    "def tsne_plot(model):\n",
    "    \"Creates and TSNE model and plots it\"\n",
    "    labels = []\n",
    "    tokens = []\n",
    "\n",
    "    for word in model.wv.vocab:\n",
    "        tokens.append(model[word])\n",
    "        labels.append(word)\n",
    "    \n",
    "    tsne_model = TSNE(perplexity=40, n_components=2, init='pca', n_iter=2500, random_state=23)\n",
    "    new_values = tsne_model.fit_transform(tokens)\n",
    "\n",
    "    x = []\n",
    "    y = []\n",
    "    for value in new_values:\n",
    "        x.append(value[0])\n",
    "        y.append(value[1])\n",
    "        \n",
    "    plt.figure(figsize=(16, 16)) \n",
    "    for i in range(len(x)):\n",
    "        plt.scatter(x[i],y[i])\n",
    "        plt.annotate(labels[i],\n",
    "                     xy=(x[i], y[i]),\n",
    "                     xytext=(5, 2),\n",
    "                     textcoords='offset points',\n",
    "                     ha='right',\n",
    "                     va='bottom')\n",
    "    plt.show()"
   ]
  },
  {
   "cell_type": "code",
   "execution_count": 64,
   "metadata": {
    "collapsed": true
   },
   "outputs": [],
   "source": [
    "#do not run\n",
    "tsne_plot(model)"
   ]
  },
  {
   "cell_type": "markdown",
   "metadata": {},
   "source": [
    "### Model parameter adjustment"
   ]
  },
  {
   "cell_type": "code",
   "execution_count": 44,
   "metadata": {
    "collapsed": true
   },
   "outputs": [],
   "source": [
    "t_question = CleanLines(q_a['q_text'])\n",
    "t_question = getToken(t_question)\n",
    "model_aj = Word2Vec(t_question, sg=1, size=100,  window=5,  min_count=5,  negative=3, sample=0.001, hs=1, workers=5)"
   ]
  },
  {
   "cell_type": "code",
   "execution_count": null,
   "metadata": {
    "collapsed": true
   },
   "outputs": [],
   "source": [
    "tsne_plot(model_aj)"
   ]
  },
  {
   "cell_type": "markdown",
   "metadata": {},
   "source": [
    "### Sample for similar word of Game"
   ]
  },
  {
   "cell_type": "code",
   "execution_count": 46,
   "metadata": {
    "collapsed": true
   },
   "outputs": [],
   "source": [
    "#Get similartity words of computer\n",
    "ts = model.wv.similar_by_vector('game')\n",
    "\n",
    "#Create tokens and labels list\n",
    "labels_game = []\n",
    "tokens_game = []\n",
    "location = model['game'] \n",
    "\n",
    "for word in ts:\n",
    "    tokens_game.append(model[word[0]])\n",
    "    labels_game.append(word[0])\n",
    "\n",
    "\n",
    "tokens_game.append(location)\n",
    "labels_game.append('game')\n",
    "\n",
    "#Dimention vectors\n",
    "tsne_model = TSNE(perplexity=40, n_components=2, init='pca', n_iter=2500, random_state=23)\n",
    "new_values = tsne_model.fit_transform(tokens_game) "
   ]
  },
  {
   "cell_type": "code",
   "execution_count": 49,
   "metadata": {},
   "outputs": [
    {
     "data": {
      "image/png": "[encoded data removed]",
      "text/plain": [
       "<Figure size 864x720 with 1 Axes>"
      ]
     },
     "metadata": {},
     "output_type": "display_data"
    }
   ],
   "source": [
    "#Create axis for vectprs\n",
    "x = []\n",
    "y = []\n",
    "for value in new_values:\n",
    "    x.append(value[0])\n",
    "    y.append(value[1])\n",
    "        \n",
    "plt.figure(figsize=(12, 10)) \n",
    "for i in range(len(x)):\n",
    "    plt.scatter(x[i],y[i])\n",
    "    plt.annotate(labels_game[i],\n",
    "         xy=(x[i], y[i]),\n",
    "         xytext=(5, 2),\n",
    "         textcoords='offset points',\n",
    "         ha='right',\n",
    "         va='bottom')\n",
    "\n",
    "plt.title('Find computer related words', fontsize='large', fontweight='bold')    \n",
    "plt.show()"
   ]
  },
  {
   "cell_type": "code",
   "execution_count": 51,
   "metadata": {
    "collapsed": true
   },
   "outputs": [],
   "source": [
    "from mpl_toolkits.mplot3d import Axes3D\n",
    "tsne = TSNE(n_components=3, random_state=0, n_iter=10000, perplexity=2)\n",
    "np.set_printoptions(suppress=True)\n",
    "T = tsne.fit_transform(tokens_game)\n",
    "labels = labels_game"
   ]
  },
  {
   "cell_type": "code",
   "execution_count": 55,
   "metadata": {},
   "outputs": [
    {
     "data": {
      "image/png": "[encoded data removed]",
      "text/plain": [
       "<Figure size 864x576 with 1 Axes>"
      ]
     },
     "metadata": {},
     "output_type": "display_data"
    }
   ],
   "source": [
    "plt.figure(figsize=(12, 8))\n",
    "ax = plt.subplot(111,projection='3d')\n",
    "\n",
    "for i in range(len(T)): # plot each point + it's index as text above\n",
    "    x = T[i,0]\n",
    "    y = T[i,1]\n",
    "    z = T[i,2]\n",
    "    label = labels[i]\n",
    "    ax.scatter(x, y, z, color='b');\n",
    "    ax.text(x, y, z, '%s' % (label), size=9, zorder=1, color='k');\n",
    "\n",
    "ax.set_title('Game similarity 3D');\n",
    "ax.set_xlabel('x');\n",
    "ax.set_ylabel('y');\n",
    "ax.set_zlabel('z');"
   ]
  },
  {
   "cell_type": "markdown",
   "metadata": {},
   "source": [
    "## 4.2 Q-A Senquence"
   ]
  },
  {
   "cell_type": "markdown",
   "metadata": {},
   "source": [
    "#### Prepare Data for Training Model"
   ]
  },
  {
   "cell_type": "code",
   "execution_count": 12,
   "metadata": {
    "collapsed": true
   },
   "outputs": [],
   "source": [
    "qa_df['q_words'] = qa_df[['q_text']].applymap(sentence_words_mapper)\n",
    "qa_df['a_words'] = qa_df[['a_text']].applymap(sentence_words_mapper)\n",
    "def words_len(words):\n",
    "    return len(words)\n",
    "qa_df['a_words_len'] = qa_df[['a_words']].applymap(words_len)\n",
    "\n",
    "tmp = qa_df[qa_df.a_words_len < 100]\n",
    "q_list = tmp.q_words.values.tolist()\n",
    "a_list = tmp.a_words.values.tolist()"
   ]
  },
  {
   "cell_type": "code",
   "execution_count": 15,
   "metadata": {
    "collapsed": true
   },
   "outputs": [],
   "source": [
    "import string\n",
    "import unicodedata\n",
    "\n",
    "def CleanLines(text):\n",
    "    cleanLine = []\n",
    "    identify = string.maketrans('', '')\n",
    "    delEStr = string.punctuation +string.digits\n",
    "    for i in text:         \n",
    "        i = i.encode(\"utf-8\")\n",
    "        lines = i.translate(identify,delEStr)\n",
    "        cleanLine.append(lines) \n",
    "    cleanLine2 = []\n",
    "    for word in cleanLine:\n",
    "        if word != '':\n",
    "            cleanLine2.append(word)\n",
    "    return cleanLine2\n",
    "\n",
    "def uni(text):\n",
    "    uni_text = []\n",
    "    for i in text:\n",
    "        i = unicode(i, \"utf-8\")\n",
    "        uni_text.append(i)\n",
    "    return uni_text\n",
    "\n",
    "def deuni(text):\n",
    "    deuni_text = []\n",
    "    for i in text:\n",
    "        i = i.encode(\"utf-8\")\n",
    "        deuni_text.append(i)\n",
    "    return deuni_text\n",
    "\n",
    "# delete long words\n",
    "def long_word_filter(words):\n",
    "    word_list = []\n",
    "    for i in words:\n",
    "        if len(i)<15:\n",
    "            word_list.append(i)\n",
    "        \n",
    "    return word_list\n",
    "\n",
    "\n",
    "# make answer_question pair file\n",
    "\n",
    "sentences = []\n",
    "qa_pair = []\n",
    "for i in range(len(q_list)):\n",
    "    q = CleanLines(q_list[i])\n",
    "    a = CleanLines(a_list[i])\n",
    "    \n",
    "    # add to our sentence list\n",
    "    #words.extend(q)\n",
    "    #words.extend(a)\n",
    "    sentences.append(q)\n",
    "    sentences.append(a)\n",
    "    \n",
    "    # add to qa_pair\n",
    "    qa_pair.append((q,a))\n",
    "        \n",
    "#words = long_word_filter(words)"
   ]
  },
  {
   "cell_type": "markdown",
   "metadata": {},
   "source": [
    "### make QA_pair.txt"
   ]
  },
  {
   "cell_type": "code",
   "execution_count": 16,
   "metadata": {
    "collapsed": true
   },
   "outputs": [],
   "source": [
    "questions = []\n",
    "answers = []\n",
    "for i in range(len(qa_pair)):\n",
    "    if len(qa_pair[i][0])<150 & len(qa_pair[i][1])<150 :\n",
    "        question = qa_pair[i][0]\n",
    "        questions.append(question) \n",
    "        answer = qa_pair[i][1]\n",
    "        answers.append(answer)"
   ]
  },
  {
   "cell_type": "code",
   "execution_count": 18,
   "metadata": {},
   "outputs": [],
   "source": [
    "fo = open(\"/data/QA/QA_pair_new.txt\", \"w\")\n",
    "\n",
    "for i in range(len(questions)):\n",
    "    for w_q in questions[i]:\n",
    "        w_q = w_q.lower()\n",
    "        fo.write( w_q+' ')\n",
    "        \n",
    "    fo.write('|')\n",
    "    \n",
    "    for w_a in answers[i]:\n",
    "        w_a = w_a.lower()\n",
    "        fo.write(w_a+' ')\n",
    "    \n",
    "    fo.write('\\n')\n",
    "            \n",
    "fo.close()"
   ]
  },
  {
   "cell_type": "code",
   "execution_count": 19,
   "metadata": {},
   "outputs": [
    {
     "name": "stdout",
     "output_type": "stream",
     "text": [
      "2590\n"
     ]
    }
   ],
   "source": [
    "# how many lines(qa_pair) in the file\n",
    "fo = open(\"/data/QA/QA_pair_new.txt\", \"r\")\n",
    "print  len(fo.readlines())"
   ]
  },
  {
   "cell_type": "markdown",
   "metadata": {},
   "source": [
    "### vectorize the sentences"
   ]
  },
  {
   "cell_type": "code",
   "execution_count": 21,
   "metadata": {
    "collapsed": true
   },
   "outputs": [],
   "source": [
    "#load vector\n",
    "model_w2v = Word2Vec.load('/data/QA/Game_new.bin')\n",
    "word_vector=model_w2v.wv\n",
    "#word_vocab = model_w2v.vocabulary\n",
    "word_vector_dict = word_vector.vocab\n",
    "\n",
    "def init_seq(input_file):\n",
    "    \"\"\" Read slice words and load sequence\n",
    "    \"\"\"\n",
    "    file_object = open(input_file, 'r')\n",
    "    vocab_dict = {}\n",
    "    while True:\n",
    "        question_seq = []\n",
    "        answer_seq = []\n",
    "        line = file_object.readline()\n",
    "        if line:\n",
    "            line_pair = line.split('|')\n",
    "            line_question = line_pair[0]\n",
    "            line_answer = line_pair[1]\n",
    "            for word in line_question.split(' '):\n",
    "                if word_vector_dict.has_key(word):\n",
    "                    question_seq.append(word_vector[word])\n",
    "            for word in line_answer.decode('utf-8').split(' '):\n",
    "                if word_vector_dict.has_key(word):\n",
    "                    answer_seq.append(word_vector[word])\n",
    "        else:\n",
    "            break\n",
    "        question_seqs.append(question_seq)\n",
    "        answer_seqs.append(answer_seq)\n",
    "    file_object.close()"
   ]
  },
  {
   "cell_type": "code",
   "execution_count": 22,
   "metadata": {},
   "outputs": [],
   "source": [
    "# get the vectorized question & answer \n",
    "question_seqs=[]\n",
    "answer_seqs=[]\n",
    "init_seq('/data/QA/QA_pair_new.txt')"
   ]
  },
  {
   "cell_type": "code",
   "execution_count": 23,
   "metadata": {},
   "outputs": [
    {
     "name": "stdout",
     "output_type": "stream",
     "text": [
      "17 59\n"
     ]
    }
   ],
   "source": [
    "# how many words in the longest sentece\n",
    "def get_max_seq_len(seqs):\n",
    "    seq_lens = []\n",
    "    for seq in seqs:\n",
    "        seq_lens.append(len(seq))\n",
    "        seq_lens.sort(reverse=True)\n",
    "    return seq_lens[0]\n",
    "\n",
    "max_q_seq = get_max_seq_len(question_seqs)\n",
    "max_a_seq = get_max_seq_len(answer_seqs)\n",
    "print max_q_seq,max_a_seq"
   ]
  },
  {
   "cell_type": "markdown",
   "metadata": {},
   "source": [
    "## 4.3 Seq2seq learning model "
   ]
  },
  {
   "cell_type": "code",
   "execution_count": 27,
   "metadata": {},
   "outputs": [],
   "source": [
    "import sys\n",
    "import math\n",
    "import tflearn\n",
    "import tensorflow as tf\n",
    "from tensorflow.python.ops import rnn_cell\n",
    "from tensorflow.python.ops import rnn\n",
    "import chardet\n",
    "import numpy as np\n",
    "import struct"
   ]
  },
  {
   "cell_type": "code",
   "execution_count": 28,
   "metadata": {},
   "outputs": [],
   "source": [
    "class MySeq2Seq(object):\n",
    "    def __init__(self, max_seq_len = 59, word_vec_dim = 100, input_file='/data/QA/QA_pair.txt'):\n",
    "        self.max_seq_len = max_seq_len\n",
    "        self.word_vec_dim = word_vec_dim\n",
    "        self.input_file = input_file\n",
    "    \n",
    "    def generate_trainig_data(self):\n",
    " \n",
    "        init_seq(self.input_file)\n",
    "        xy_data = []\n",
    "        y_data = []\n",
    "        for i in range(len(question_seqs)):\n",
    "        #for i in range(100):\n",
    "            question_seq = question_seqs[i]\n",
    "            answer_seq = answer_seqs[i]\n",
    "            if len(question_seq) < self.max_seq_len and len(answer_seq) < self.max_seq_len:\n",
    "                #多余的位设为0，与question的reverse合并 * - repeat ；+ - 合并\n",
    "                sequence_ry = [np.zeros(self.word_vec_dim)] * (self.max_seq_len-len(question_seq)) + list(reversed(question_seq))\n",
    "                #多余的位设为0， 与answer合并\n",
    "                sequence_y = answer_seq + [np.zeros(self.word_vec_dim)] * (self.max_seq_len-len(answer_seq))\n",
    "                #merge\n",
    "                sequence_xy = sequence_ry + sequence_y\n",
    "                \n",
    "                #sequence_xy = question_seq +[np.zeros(self.word_vec_dim)] * (self.max_seq_len-len(question_seq))\n",
    "                \n",
    "                sequence_y = [np.ones(self.word_vec_dim)] + sequence_y\n",
    "                xy_data.append(sequence_xy)\n",
    "                y_data.append(sequence_y)\n",
    "\n",
    "               \n",
    "\n",
    "        return np.array(xy_data), np.array(y_data)\n",
    "    \n",
    "    \n",
    "    def model(self, feed_previous=False):\n",
    "        # 通过输入的XY生成encoder_inputs和带GO头的decoder_inputs\n",
    "        input_data = tflearn.input_data(shape=[None, self.max_seq_len*2, self.word_vec_dim], dtype=tf.float32, name = \"XY\")\n",
    "        encoder_inputs = tf.slice(input_data, [0, 0, 0], [-1, self.max_seq_len, self.word_vec_dim], name=\"enc_in\")\n",
    "        decoder_inputs_tmp = tf.slice(input_data, [0, self.max_seq_len, 0], [-1, self.max_seq_len-1, self.word_vec_dim], name=\"dec_in_tmp\")\n",
    "        go_inputs = tf.ones_like(decoder_inputs_tmp)\n",
    "        go_inputs = tf.slice(go_inputs, [0, 0, 0], [-1, 1, self.word_vec_dim])\n",
    "        decoder_inputs = tf.concat([go_inputs, decoder_inputs_tmp], 1,name=\"dec_in\")\n",
    "        \n",
    "        \n",
    "        # encoder\n",
    "        # 把encoder_inputs交给编码器，返回一个输出(预测序列的第一个值)和一个状态(传给解码器)\n",
    "        with tf.variable_scope(tf.get_variable_scope(),reuse=tf.AUTO_REUSE):\n",
    "            (encoder_output_tensor, states) = tflearn.lstm(encoder_inputs, self.word_vec_dim, return_state=True, scope='encoder_lstm')\n",
    "            encoder_output_sequence = tf.stack([encoder_output_tensor], axis=1)\n",
    "            \n",
    "\n",
    "            # decoder\n",
    "            # 预测过程用前一个时间序的输出作为下一个时间序的输入\n",
    "            # 先用编码器的最后一个输出作为第一个输入\n",
    "            if feed_previous:\n",
    "                first_dec_input = go_inputs\n",
    "            else:\n",
    "                first_dec_input = tf.slice(decoder_inputs, [0, 0, 0], [-1, 1, self.word_vec_dim])\n",
    "            decoder_output_tensor = tflearn.lstm(first_dec_input, self.word_vec_dim, initial_state=states, return_seq=False, reuse=False, scope='decoder_lstm')\n",
    "            decoder_output_sequence_single = tf.stack([decoder_output_tensor], axis=1)\n",
    "            decoder_output_sequence_list = [decoder_output_tensor]\n",
    "            # 再用解码器的输出作为下一个时序的输入\n",
    "            for i in range(self.max_seq_len-1):\n",
    "                if feed_previous:\n",
    "                    next_dec_input = decoder_output_sequence_single\n",
    "                else:\n",
    "                    next_dec_input = tf.slice(decoder_inputs, [0, i+1, 0], [-1, 1, self.word_vec_dim])\n",
    "                decoder_output_tensor = tflearn.lstm(next_dec_input, self.word_vec_dim, return_seq=False, reuse=True, scope='decoder_lstm')\n",
    "                decoder_output_sequence_single = tf.stack([decoder_output_tensor], axis=1)\n",
    "                decoder_output_sequence_list.append(decoder_output_tensor)\n",
    "                \n",
    "            \n",
    "            decoder_output_sequence = tf.stack(decoder_output_sequence_list, axis=1)\n",
    "           \n",
    "            real_output_sequence = tf.concat([encoder_output_sequence, decoder_output_sequence],1)\n",
    "             \n",
    "            net = tflearn.regression(real_output_sequence, optimizer='sgd', learning_rate=0.1, loss='mean_square', name=\"targetY\")            \n",
    "            net = tflearn.fully_connected(net, 1, activation='softmax')\n",
    "\n",
    "            print \"begin create DNN model\"          \n",
    "            model = tflearn.DNN(net, tensorboard_verbose=0, checkpoint_path=None)\n",
    "            print \"create DNN model finish\"\n",
    "            return model\n",
    "    \n",
    "    def train(self):\n",
    "        trainXY, trainY = self.generate_trainig_data()\n",
    "        model = self.model(feed_previous=False)\n",
    "        model.fit(trainXY, trainY, n_epoch=1, snapshot_epoch=False, batch_size=1)\n",
    "        model.save('/data/QA/model_tensorflow')\n",
    "        return model\n",
    "    \n",
    "    def load(self):\n",
    "        model = self.model(feed_previous=True,reuse=True)\n",
    "        model.load('/data/QA/model_tensorflow')\n",
    "        return model"
   ]
  },
  {
   "cell_type": "markdown",
   "metadata": {},
   "source": [
    "## 4.4 Training the model"
   ]
  },
  {
   "cell_type": "code",
   "execution_count": 29,
   "metadata": {
    "collapsed": true
   },
   "outputs": [],
   "source": [
    "my_seq2seq = MySeq2Seq( max_seq_len = 59, word_vec_dim = 100, input_file='/data/QA/QA_pair_new.txt')"
   ]
  },
  {
   "cell_type": "code",
   "execution_count": 32,
   "metadata": {
    "collapsed": true
   },
   "outputs": [
    {
     "name": "stdout",
     "output_type": "stream",
     "text": [
      "Training Step: 7764  | total loss: \u001b[1m\u001b[32m0.01329\u001b[0m\u001b[0m | time: 272.936s\n",
      "| SGD | epoch: 001 | loss: 0.01329 -- iter: 7764/7764\n",
      "INFO:tensorflow:/data/QA/model_tensorflow is not in all_model_checkpoint_paths. Manually adding it.\n"
     ]
    }
   ],
   "source": [
    "tf.reset_default_graph()\n",
    "model = my_seq2seq.train()"
   ]
  },
  {
   "cell_type": "markdown",
   "metadata": {},
   "source": [
    "## 4.5 Prediction\n",
    "We have not done this. What we need to do in the future is:\n",
    "* Get an input question from the customer\n",
    "* Transfer the question to a Tensorflow input\n",
    "* Use our model to predict the target which is a list of vectors\n",
    "* Translate the list of vectors to a list of words\n",
    "* Generate a human friendly answer from the list of words\n",
    "\n"
   ]
  },
  {
   "cell_type": "markdown",
   "metadata": {},
   "source": [
    "# 5 Limitations\n",
    "* NLP is a big area, involve lots of knowledge and technologies, we do not have enough time to do all the things.\n",
    "* Fast evolving libraries ，tensorflow, gensim, we met a lot of problems caused by the diffirences between versions.\n",
    "* We have limitations of computing resource to train complex RNN model.\n",
    "* For the prediction part, we have the idea of how to do the most of them. But generating human friendly answers from a list of words is another complex topic.\n",
    "* Some of the tags of the QA data, like, question type, helpful, are not considered in the our model. There is a article talked about this, which is about Mixtures of Experts.(http://cseweb.ucsd.edu/~jmcauley/pdfs/www16b.pdf)\n",
    "\n",
    "\n"
   ]
  },
  {
   "cell_type": "markdown",
   "metadata": {},
   "source": [
    "# 6 References\n",
    "* https://medium.com/@adityathakker/introduction-to-word2vec-how-it-works-453ab2fb0721\n",
    "* http://scikit-learn.org/stable/auto_examples/manifold/plot_t_sne_perplexity.html\n",
    "* https://radimrehurek.com/gensim/similarities/docsim.html\n",
    "* http://seaborn.pydata.org/generated/seaborn.barplot.html  \n",
    "* Understanding LSTM Networks(http://colah.github.io/posts/2015-08-Understanding-LSTMs/)\n",
    "* https://github.com/farizrahman4u/seq2seq \n",
    "* Sequence to Sequence Learning with Neural Networks (http://cn.arxiv.org/pdf/1409.3215.pdf)\n"
   ]
  }
 ],
 "metadata": {
  "kernelspec": {
   "display_name": "Python 2",
   "language": "python",
   "name": "python2"
  },
  "language_info": {
   "codemirror_mode": {
    "name": "ipython",
    "version": 2
   },
   "file_extension": ".py",
   "mimetype": "text/x-python",
   "name": "python",
   "nbconvert_exporter": "python",
   "pygments_lexer": "ipython2",
   "version": "2.7.15"
  }
 },
 "nbformat": 4,
 "nbformat_minor": 2
}
